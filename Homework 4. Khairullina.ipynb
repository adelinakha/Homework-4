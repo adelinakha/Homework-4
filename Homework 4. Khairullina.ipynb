{
 "cells": [
  {
   "cell_type": "markdown",
   "id": "354f0cf3",
   "metadata": {},
   "source": [
    "Задание 1\n",
    "\n",
    "\n",
    "\n",
    "\n"
   ]
  },
  {
   "cell_type": "code",
   "execution_count": 25,
   "id": "8f94fa61",
   "metadata": {},
   "outputs": [
    {
     "name": "stdout",
     "output_type": "stream",
     "text": [
      "Ввелите ваш номер: АБ22ВВ193\n",
      "Номер не валиден.\n"
     ]
    }
   ],
   "source": [
    "import re\n",
    "\n",
    "def validate_car_id(car_id):\n",
    "    pattern = r'^[АВЕКМНОРСТУХABEKMHOPCTYX]{1}(?!000)\\d{3}[АВЕКМНОРСТУХABEKMHOPCTYX]{2}\\d{2,3}$'\n",
    "    \n",
    "    match = re.match(pattern, car_id)\n",
    "    \n",
    "    if match:\n",
    "        number_part = match.group()[:6]\n",
    "        region_part = match.group()[6:]\n",
    "        return f'Номер {number_part} валиден. Регион: {region_part}.'\n",
    "    else:\n",
    "        return 'Номер не валиден.'\n",
    "\n",
    "\n",
    "car_id1 = input('Ввелите ваш номер: ')\n",
    "result1 = validate_car_id(car_id1)\n",
    "print(result1)\n"
   ]
  },
  {
   "cell_type": "markdown",
   "id": "5c8ec53f",
   "metadata": {},
   "source": [
    "Задание 2"
   ]
  },
  {
   "cell_type": "code",
   "execution_count": 22,
   "id": "216f3a12",
   "metadata": {},
   "outputs": [
    {
     "name": "stdout",
     "output_type": "stream",
     "text": [
      "Введите строку: Напишите функцию функцию, которая будет будет будет будет удалять все все все все последовательные повторы слов из из из из заданной строки строки при помощи регулярных выражений\n",
      "Напишите функцию, которая будет удалять все последовательные повторы слов из заданной строки при помощи регулярных выражений\n"
     ]
    }
   ],
   "source": [
    "import re\n",
    "\n",
    "def remove_consecutive_duplicates(input_string):\n",
    "    # Используем \\b поиск целых слов.\n",
    "    # (?:\\b(\\w+)\\b) незахватывающая группа, которая соответствует целому слову\n",
    "    # (?:\\s+\\1)+ проверка на последовательные повторы слов\n",
    "    pattern = re.compile(r'\\b(\\w+)(?:\\s+\\1)+\\b', re.IGNORECASE)\n",
    "    \n",
    "    # Заменяем повторяющиеся слова на первое вхождение слова\n",
    "    result = pattern.sub(r'\\1', input_string)\n",
    "    \n",
    "    return result\n",
    "\n",
    "some_string = input('Введите строку: ')\n",
    "result = remove_consecutive_duplicates(some_string)\n",
    "print(result)\n"
   ]
  },
  {
   "cell_type": "code",
   "execution_count": null,
   "id": "fc37bbd4",
   "metadata": {},
   "outputs": [],
   "source": []
  }
 ],
 "metadata": {
  "kernelspec": {
   "display_name": "Python 3 (ipykernel)",
   "language": "python",
   "name": "python3"
  },
  "language_info": {
   "codemirror_mode": {
    "name": "ipython",
    "version": 3
   },
   "file_extension": ".py",
   "mimetype": "text/x-python",
   "name": "python",
   "nbconvert_exporter": "python",
   "pygments_lexer": "ipython3",
   "version": "3.11.5"
  }
 },
 "nbformat": 4,
 "nbformat_minor": 5
}
